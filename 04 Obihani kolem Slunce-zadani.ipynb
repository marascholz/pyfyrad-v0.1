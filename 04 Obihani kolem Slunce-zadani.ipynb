{
 "cells": [
  {
   "cell_type": "markdown",
   "id": "fd3ae84a",
   "metadata": {},
   "source": [
    "# Pohyb v centrálním poli Slunce\n",
    "V předchozí lekci jsme řešili pohyby (vrhy) těles v homogenním gravitačním poli, tedy v blízkosti země, kde je ve všech místech stejné $g$. Úlohu jsme si ale v případě vrhů komplikovali odporem vzduchu. Nyní budeme řešit pohyb těles (třeba planet) okolo Slunce. Budeme tedy zřejmě bez odporu vzduchu, ale zase velikost i směr gravitační síly na těleso budou záviset na jeho poloze. Počátek soustavy souřadné položíme do Slunce a polohu planety popíšeme polohovým vektorem $\\vec{r}=(x,y)$ a její rychlost vektorem $\\vec{v}=(v_x,v_y)$. Budeme řešit jen pohyb v rovině, tedy 2D případ. Hmotnost planety značme $m$, hmotnost Slunce $M$.\n",
    "$$ \\vec{F} = G\\frac{mM}{|r|^2}\\frac{\\vec{r}}{|r|}$$\n",
    "V tomto vztahu vás možná mate člen $\\vec{r}/|r|$, protože vám připadá, že tam nepatří. Tento člen je ale pouze takzvaný jednotkový vektor (má velikost 1) ve směru ke Slunci. Gravitační zákon je pak ve vektorové podobě, kdy je v rovnici obsažen i směr gravitační síly.\n",
    "Přístup k napsání kódu pro numerickou simulaci pohybu planety bude v jádru úplně stejný jako pro šikmý vrh z minulé lekce. Budeme počítat nové hodnoty polohy a rychlosti v čase $t+\\Delta t$ na základě původní polohy $\\vec{r}$, rychlosti $v$ a zrychlení $\\vec{a}$.\n",
    "\n",
    "\\begin{eqnarray}\n",
    "\\vec{r}' = \\vec{r} + \\vec{v}\\Delta(t) \\\\\n",
    "\\vec{v}' = \\vec{v} + \\vec{a}\\Delta(t) \\\\\n",
    "\\vec{a}' = F(\\vec{r}')/m\n",
    "\\end{eqnarray}\n",
    "\n",
    "Toto je návod, jak postupně vypočítat vývoj polohy a rychlosti v čase pomocí malých časových posunů, např. dříve uvedenou Newtonovou metodou. Také jsme si ale ukazovali chytřejší způsob integrace pohybových rovnic, a sice pomocí funkce \\code{odeint}. V takovém případě potřebujeme vyjádřit hodnoty derivací $\\vec{r}$ a $\\vec{v}$:\n",
    "\n",
    "\\begin{eqnarray}\n",
    "\\frac{\\mathrm{d}\\vec{r}}{\\mathrm{d} t} = \\vec{v} \\\\\n",
    "\\frac{\\mathrm{d}\\vec{v}}{\\mathrm{d} t} = \\vec{a}\n",
    "\\end{eqnarray}\n",
    "\n",
    "přičemž podle předchozího\n",
    "$$ \\vec{a} = G\\frac{M}{|r|^3}\\vec{r}$$\n"
   ]
  },
  {
   "cell_type": "markdown",
   "id": "f34969c2",
   "metadata": {},
   "source": [
    "## Zadání\n",
    "Vašim úkolem je numericky simulovat tvar trajektorie tělesa (třeba planeta), které je v dané pozici a je mu udělena určitá rychlost. Očekáváme, že v závislosti na počáteční poloze a rychlosti bude těleso opisovat kružnici, elipsu, parabolu, či snad hyperbolu. Tvar trajektorie tělesa v gravitačním poli jsme řešili už v minulé lekci o pádech a vrzích. Půjde tedy o to nějak chytře předělat kód z předchozí lekce a dostat podobný obrázek jako tento:\n",
    "<br><img src='trajektorie_planety.png' width='300px'></img><br>\n",
    "Možný začátek kódu máte už uvedený v buňce."
   ]
  },
  {
   "cell_type": "code",
   "execution_count": 9,
   "id": "f2f905fe",
   "metadata": {},
   "outputs": [],
   "source": [
    "import numpy as np\n",
    "import matplotlib.pyplot as plt\n",
    "m = 6e24 # hmotnost planety v kg\n",
    "M = 2e30 # hmotnost Slunce\n",
    "G = 6.67e-11 # gravitacni konstanta v zakladnich jednotkach\n",
    "AU = 1.5e11 # astronomicka jednotka v m\n",
    "r0 = np.array([-1*AU,0*AU]) # pocatecni vektor polohy\n",
    "v0 = np.array([0,3e4]) # pocatecni vektor rychlosti v m/s\n",
    "# Zakladni jednotkou casu je sekunda, ale nadefinujeme si i nejake jeji nasobky, jako den a rok\n",
    "yr = 3600*24*365\n",
    "day = 3600*24\n",
    "# vynulujeme stopky a nastavime nas prirustek casu\n",
    "# zde jsou pohyby zajimave v casove skale mnoha roku, takze si nemuzeme dovolit postupovat jen po setine sekundy jako minule.\n",
    "# Vezmeme casovy krok treba jednu hodinu, tedy 3600 s.\n",
    "t = 0\n",
    "dt = 3600\n",
    "# inicializace\n",
    "r = r0\n",
    "v = v0\n",
    "data = []\n",
    "# a nasleduje vypocet poloh a rychlosti a vykresleni. To uz je vase prace.\n",
    "# ..."
   ]
  },
  {
   "cell_type": "code",
   "execution_count": null,
   "id": "6b15aab5",
   "metadata": {},
   "outputs": [],
   "source": []
  }
 ],
 "metadata": {
  "kernelspec": {
   "display_name": "Python 3 (ipykernel)",
   "language": "python",
   "name": "python3"
  },
  "language_info": {
   "codemirror_mode": {
    "name": "ipython",
    "version": 3
   },
   "file_extension": ".py",
   "mimetype": "text/x-python",
   "name": "python",
   "nbconvert_exporter": "python",
   "pygments_lexer": "ipython3",
   "version": "3.9.12"
  }
 },
 "nbformat": 4,
 "nbformat_minor": 5
}
