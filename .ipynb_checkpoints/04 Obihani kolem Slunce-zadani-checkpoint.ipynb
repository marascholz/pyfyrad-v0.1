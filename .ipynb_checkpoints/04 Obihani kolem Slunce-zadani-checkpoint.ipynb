{
 "cells": [
  {
   "cell_type": "markdown",
   "id": "b4def3ae",
   "metadata": {},
   "source": [
    "# Pohyb v centrálním poli Slunce\n",
    "V předchozí lekci jsme řešili pohyby (vrhy) těles v homogenním gravitačním poli, tedy v blízkosti země, kde je ve všech místech stejné $g$. Úlohu jsme si ale v případě vrhů komplikovali odporem vzduchu. Nyní budeme řešit pohyb těles (třeba planet) okolo Slunce. Budeme tedy zřejmě bez odporu vzduchu, ale zase velikost i směr gravitační síly na těleso budou záviset na jeho poloze. Počátek soustavy souřadné položíme do Slunce a polohu planety popíšeme polohovým vektorem $\\vec{r}=(x,y)$ a její rychlost vektorem $\\vec{v}=(v_x,v_y)$. Budeme řešit jen pohyb v rovině, tedy 2D případ. Hmotnost planety značme $m$, hmotnost Slunce $M$.\n",
    "$$ \\vec{F} = G\\frac{mM}{|r|^2}\\frac{\\vec{r}}{|r|}$$\n",
    "V tomto vztahu vás možná mate člen $\\\\vec{r}/|r|$, protože vám připadá, že tam nepatří. Tento člen je ale pouze takzvaný jednotkový vektor (má velikost 1) ve směru ke Slunci. Gravitační zákon je pak ve vektorové podobě, kdy je v rovnici obsažen i směr gravitační síly.\n",
    "Přístup k napsání kódu pro numerickou simulaci pohybu planety bude v jádru úplně stejný jako pro šikmý vrh z minulé lekce. Budeme počítat nové hodnoty polohy a rychlosti v čase $t+\\Delta t$ na základě původní polohy $\\vec{r}$, rychlosti $v$ a zrychlení $\\vec{a}$.\n",
    "\n",
    "\\begin{eqnarray}\n",
    "\\vec{r}' = \\vec{r} + \\vec{v}\\Delta(t) \\\\\n",
    "\\vec{v}' = \\vec{v} + \\vec{a}\\Delta(t) \\\\\n",
    "\\vec{a}' = F(\\vec{r}')/m\n",
    "\\end{eqnarray}\n",
    "\n",
    "Toto je návod, jak postupně vypočítat vývoj polohy a rychlosti v čase pomocí malých časových posunů, např. dříve uvedenou Newtonovou metodou. Také jsme si ale ukazovali chytřejší způsob integrace pohybových rovnic, a sice pomocí funkce \\code{odeint}. V takovém případě potřebujeme vyjádřit hodnoty derivací $\\vec{r}$ a $\\vec{v}$:\n",
    "\n",
    "\\begin{eqnarray}\n",
    "\\frac{\\mathrm{d}\\vec{r}}{\\mathrm{d} t} = \\vec{v} \\\\\n",
    "\\frac{\\mathrm{d}\\vec{v}}{\\mathrm{d} t} = \\vec{a}\n",
    "\\end{eqnarray}\n",
    "\n",
    "přičemž podle předchozího\n",
    "$$ \\vec{a} = G\\frac{M}{|r|^3}\\vec{r}$$\n"
   ]
  },
  {
   "cell_type": "code",
   "execution_count": 17,
   "id": "60eccb06",
   "metadata": {},
   "outputs": [
    {
     "name": "stderr",
     "output_type": "stream",
     "text": [
      "No handles with labels found to put in legend.\n"
     ]
    },
    {
     "data": {
      "image/png": "[encoded data removed]",
      "text/plain": [
       "<Figure size 432x288 with 1 Axes>"
      ]
     },
     "metadata": {
      "needs_background": "light"
     },
     "output_type": "display_data"
    }
   ],
   "source": [
    "import numpy as np\n",
    "import matplotlib.pyplot as plt\n",
    "m = 6e24 # hmotnost planety v kg\n",
    "M = 2e30 # hmotnost Slunce\n",
    "G = 6.67e-11 # gravitacni konstanta v zakladnich jednotkach\n",
    "AU = 1.5e11 # astronomicka jednotka v m\n",
    "r0 = np.array([-1*AU,0*AU]) # pocatecni vektor polohy\n",
    "v0 = np.array([0,2e4]) # pocatecni vektor rychlosti v m/s\n",
    "# Zakladni jednotkou casu je sekunda, ale nadefinujeme si i nejake jeji nasobky, jako den a rok\n",
    "yr = 3600*24*365\n",
    "day = 3600*24\n",
    "# vynulujeme stopky a nastavime nas prirustek casu\n",
    "# zde jsou pohyby zajimave v casove skale mnoha roku, takze si nemuzeme dovoilit postupovat jen po setine sekundy jako minule.\n",
    "# Vezmeme casovy krok treba jednu hodinu, tedy 3600 s.\n",
    "t = 0\n",
    "dt = day\n",
    "# inicializace\n",
    "r = r0\n",
    "v = v0\n",
    "data = []\n",
    "# smycka\n",
    "while t<10*yr:\n",
    "    a = -r*G*M/(r.dot(r)**(3/2))\n",
    "    v = v + a*dt\n",
    "    r = r + v*dt\n",
    "    t = t + dt\n",
    "    # pridat do 'tabulky' dalsi radek obsahujici aktualni udaje t,x,y,vx,vy,ax,ay\n",
    "    data.append([t,r[0],r[1],v[0],v[1],a[0],a[1]])\n",
    "# konverze tabulky do numpy array a rozdeleni na sloupce. Ve sloupcich mame casovou radu poloh, rychlosti a zrychleni\n",
    "tt,xx,yy,vvx,vvy,aax,aay = np.hsplit(np.array(data),7)\n",
    "# vypocitana poloha v case pomoci numericke simulace\n",
    "# vyber jen polohy kazdych 7 dnu\n",
    "sli = slice(0,-1,np.int(7*day/dt))\n",
    "xx1 = xx[sli]\n",
    "yy1 = yy[sli]\n",
    "\n",
    "plt.plot(xx1/AU,yy1/AU,'-',markersize=2,label='')\n",
    "plt.axis('scaled')\n",
    "plt.xlabel('x [AU]')\n",
    "plt.ylabel('y [AU]')\n",
    "plt.grid()\n",
    "plt.legend()\n",
    "plt.title('pohyb planety')\n",
    "sun = plt.Circle((0, 0), 0.1, color='orange')\n",
    "plt.gca().add_patch(sun)\n",
    "plt.show()"
   ]
  },
  {
   "cell_type": "code",
   "execution_count": 23,
   "id": "be374fb1",
   "metadata": {},
   "outputs": [],
   "source": [
    "from tkinter import *\n",
    "import time\n",
    "\n",
    "gui = Tk()\n",
    "gui.geometry(\"800x600\")\n",
    "gui.title(\"Pi Animation\")\n",
    "canvas = Canvas(gui, width=800,height=600,bg='white')\n",
    "canvas.pack()\n",
    "\n",
    "planet = canvas.create_oval(5,5,20,20, fill='red')\n",
    "for x,y in zip(xx1,yy1):\n",
    "    canvas.move(planet,np.int(400+50*x/AU),np.int(300+50*y/AU))\n",
    "    gui.update()\n",
    "    time.sleep(.01)\n",
    "\n",
    "gui.mainloop()"
   ]
  },
  {
   "cell_type": "code",
   "execution_count": 24,
   "id": "2eca3bac",
   "metadata": {},
   "outputs": [],
   "source": [
    "import turtle\n",
    "sc = turtle.getscreen()\n",
    "turtle = turtle.Turtle()\n",
    "turtle.goto(0,0)"
   ]
  },
  {
   "cell_type": "code",
   "execution_count": null,
   "id": "ab4748e2",
   "metadata": {},
   "outputs": [],
   "source": []
  }
 ],
 "metadata": {
  "kernelspec": {
   "display_name": "Python 3",
   "language": "python",
   "name": "python3"
  },
  "language_info": {
   "codemirror_mode": {
    "name": "ipython",
    "version": 3
   },
   "file_extension": ".py",
   "mimetype": "text/x-python",
   "name": "python",
   "nbconvert_exporter": "python",
   "pygments_lexer": "ipython3",
   "version": "3.7.3"
  }
 },
 "nbformat": 4,
 "nbformat_minor": 5
}
