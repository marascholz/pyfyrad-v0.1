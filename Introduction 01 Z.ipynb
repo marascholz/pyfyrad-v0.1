{
 "cells": [
  {
   "cell_type": "markdown",
   "metadata": {},
   "source": [
    "# First steps with Python\n",
    "This will guide you through the very first steps with Pyhon. It is a very brief introduction. You will have to google search for more details and explanations. I decided to write it in english because you will have to use english anyway when looking up tutorials etc.\n",
    "\n",
    "You can edit the code in the cells and then run it with **Ctrl+Enter**. You should run the cells one by one because latter cells may use the variables created in earlier cells.\n"
   ]
  },
  {
   "cell_type": "markdown",
   "metadata": {},
   "source": [
    "## printing and strings\n",
    "Look at this code and try to undestand. Try to modify parameters and watch what happens."
   ]
  },
  {
   "cell_type": "code",
   "execution_count": 1,
   "metadata": {},
   "outputs": [
    {
     "name": "stdout",
     "output_type": "stream",
     "text": [
      "Hello world!\n",
      "whatever\n",
      "\n",
      "\n",
      "whatever whatever\n",
      "atev\n",
      "atever\n"
     ]
    }
   ],
   "source": [
    "# comment by using hash\n",
    "print('Hello world!')\n",
    "s = 'whatever'\n",
    "print(s)\n",
    "print('\\n') #newline\n",
    "print(s+' '+s) # concatenate strings\n",
    "print(s[2:-2]) #from second to last but one\n",
    "print(s[s.find('a'):]) # from position where 'a' is find up to the end"
   ]
  },
  {
   "cell_type": "markdown",
   "metadata": {},
   "source": [
    "## Variables and numbers"
   ]
  },
  {
   "cell_type": "code",
   "execution_count": 2,
   "metadata": {},
   "outputs": [
    {
     "name": "stdout",
     "output_type": "stream",
     "text": [
      "energy is 2.235025e+17 J\n",
      "energy is 2.2e+17 J\n",
      "speed:  24.24871130596428\n",
      "1.25\n"
     ]
    }
   ],
   "source": [
    "import numpy as np #numerical library is imported. Functions within library can be called by using np prefix\n",
    "m = 2.5\n",
    "c = 2.99e8\n",
    "E = m*c**2\n",
    "print('energy is '+str(E)+' J')\n",
    "print('energy is {:.2} J'.format(E))\n",
    "g = 9.8\n",
    "h = 30\n",
    "v = np.sqrt(2*g*h)\n",
    "print('speed: ',v)\n",
    "# division of numbers\n",
    "print(m/2)\n",
    "# note that variables in python do not have any specific type. You can assign a string e.g. to variable m that was previously a number\n",
    "m = 'foobar'\n",
    "\n"
   ]
  },
  {
   "cell_type": "markdown",
   "metadata": {},
   "source": [
    "### Exercise 1\n",
    "Complete the code that calculates kinetic energy of a running man and print the answer in a neat way."
   ]
  },
  {
   "cell_type": "code",
   "execution_count": 13,
   "metadata": {},
   "outputs": [],
   "source": [
    "m = 80 #kg\n",
    "v = 9.2 #m/s\n",
    "# define variable E that will hold the result of the calculation of kinetic energy\n",
    "# Print the results as a whole phrase such as 'Kinetics energy is 100 J'."
   ]
  },
  {
   "cell_type": "markdown",
   "metadata": {},
   "source": [
    "## Working with lists and arrays"
   ]
  },
  {
   "cell_type": "code",
   "execution_count": 3,
   "metadata": {},
   "outputs": [
    {
     "name": "stdout",
     "output_type": "stream",
     "text": [
      "list:\n",
      "[1, 4, 9, 16, 25]\n",
      "4\n",
      "25\n",
      "[9, 16]\n",
      "[1, 4, 9, 16, 25, 36]\n"
     ]
    }
   ],
   "source": [
    "#Let's first clear the namespace (existing variables etc.)\n",
    "%reset -f\n",
    "#Let's import numerical library again\n",
    "import numpy as np\n",
    "# Let's define a list of numbers\n",
    "lst = [1,4,9,16,25]\n",
    "print('list:')\n",
    "print(lst)\n",
    "# access element with index 1. Note that indexing starts from 0\n",
    "print(lst[1])\n",
    "# access last item of the list\n",
    "print(lst[-1])\n",
    "# access a sub-list\n",
    "print(lst[2:4])\n",
    "# You can add an item at the end of the list\n",
    "lst.append(36)\n",
    "print(lst)\n"
   ]
  },
  {
   "cell_type": "code",
   "execution_count": 24,
   "metadata": {},
   "outputs": [
    {
     "name": "stdout",
     "output_type": "stream",
     "text": [
      "numpy array:\n",
      "[ 1  4  9 16 25 36]\n",
      "[0. 1. 2. 3. 4. 5.]\n",
      "[ 2  4  6  8 10]\n",
      "access items\n",
      "20\n",
      "[1.2 1.6]\n"
     ]
    }
   ],
   "source": [
    "# For numerical manipulations, you can convert the list to a numpy array\n",
    "a = np.array(lst)\n",
    "print('numpy array:')\n",
    "print(a)\n",
    "# You can make almost any numerical manipulation with the array a and replace the values in the array with the new ones\n",
    "print('array after mathematical operation:')\n",
    "a = np.sqrt(a)-1\n",
    "print(a)\n",
    "# You can also create numpy array directly\n",
    "a = np.array([2,4,6,8,10])\n",
    "print(a)\n",
    "# To access the items of the array, you can again use [index] notation\n",
    "print('access items')\n",
    "print(10*a[0])\n",
    "print(a[2:4]/5)"
   ]
  },
  {
   "cell_type": "markdown",
   "metadata": {},
   "source": [
    "### Exercise 2\n",
    "Make a numpy array called p that will contain numbers from 1 to five. Then create array r by calculating square root of array p. Finally, print the array r."
   ]
  },
  {
   "cell_type": "code",
   "execution_count": null,
   "metadata": {},
   "outputs": [],
   "source": [
    "# p = ...\n",
    "# r = ...\n",
    "# print = ..."
   ]
  },
  {
   "cell_type": "markdown",
   "metadata": {},
   "source": [
    "## Ranges"
   ]
  },
  {
   "cell_type": "code",
   "execution_count": 4,
   "metadata": {},
   "outputs": [
    {
     "name": "stdout",
     "output_type": "stream",
     "text": [
      "[ 3  5  7  9 11 13 15 17 19]\n",
      "[   0.  250.  500.  750. 1000.]\n"
     ]
    }
   ],
   "source": [
    "# You do not have to define a sequence of numbers manually. For evenly spaced array of numbers, you can do\n",
    "a = np.arange(3,20,2)\n",
    "print(a)\n",
    "# or\n",
    "print(np.linspace(0,1000,5))"
   ]
  },
  {
   "cell_type": "markdown",
   "metadata": {},
   "source": [
    "## For loop interation\n",
    "You can iterate over the items of an array or a list"
   ]
  },
  {
   "cell_type": "code",
   "execution_count": 31,
   "metadata": {},
   "outputs": [
    {
     "name": "stdout",
     "output_type": "stream",
     "text": [
      "cubic of 1 is  1\n",
      "cubic of 2 is  8\n",
      "cubic of 3 is  27\n",
      "cubic of 4 is  64\n"
     ]
    }
   ],
   "source": [
    "array = np.arange(1,5)\n",
    "# for loop is one of the most basic statements\n",
    "for number in array:\n",
    "    print('cubic of ' + str(number) + ' is ',str(number**3))\n",
    "    \n",
    "    "
   ]
  },
  {
   "cell_type": "code",
   "execution_count": 32,
   "metadata": {},
   "outputs": [
    {
     "name": "stdout",
     "output_type": "stream",
     "text": [
      "Two to 0 is 1\n",
      "Two to 1 is 2\n",
      "Two to 2 is 4\n",
      "Two to 3 is 8\n",
      "Two to 4 is 16\n"
     ]
    }
   ],
   "source": [
    "# You do not have to define an array. You can use a simple iterator\n",
    "for k in range(5):\n",
    "    print('Two to {} is {}'.format(k,2**k))"
   ]
  },
  {
   "cell_type": "markdown",
   "metadata": {},
   "source": [
    "### Exercise 3\n",
    "Define an array x that will contain only odd numbers between 0 and 100. Then use the for cycle to sum these numbers."
   ]
  },
  {
   "cell_type": "code",
   "execution_count": 34,
   "metadata": {},
   "outputs": [
    {
     "name": "stdout",
     "output_type": "stream",
     "text": [
      "0\n"
     ]
    }
   ],
   "source": [
    "#array = ...\n",
    "suma = 0\n",
    "#for ...\n",
    "    # suma = suma + ...\n",
    "print(suma)"
   ]
  },
  {
   "cell_type": "markdown",
   "metadata": {},
   "source": [
    "## Numpy methods for calculations on arrays\n",
    "However, it is often very ineffective to use for loops to do some calculations on arrays, because numpy array is an object which has many useful methods defined. Look at several examples:"
   ]
  },
  {
   "cell_type": "code",
   "execution_count": 41,
   "metadata": {},
   "outputs": [
    {
     "name": "stdout",
     "output_type": "stream",
     "text": [
      "55\n",
      "5.0\n",
      "10\n",
      "[   1    2    4    8   16   32   64  128  256  512 1024]\n"
     ]
    }
   ],
   "source": [
    "v = np.arange(0,11) # note that when the second number is 11, it means that the last number will be 10, because it is the greates integer smaller than 11.\n",
    "print(v)\n",
    "print(v.sum())\n",
    "print(v.mean())\n",
    "print(v.max())\n",
    "# Also it is often non-sensical to use a for loop to do some simple numerical manipulation with the numpy array. You can do\n",
    "result = v**3\n",
    "result = 2**v\n",
    "print(result)"
   ]
  },
  {
   "cell_type": "markdown",
   "metadata": {},
   "source": [
    "### Exercise 4\n",
    "Repeat exercise 3, but without using a For cycle. Define an array x that will contain only odd numbers between 0 and 100. Then use numpy array method to calculate the sum and print the result. "
   ]
  },
  {
   "cell_type": "code",
   "execution_count": null,
   "metadata": {},
   "outputs": [],
   "source": [
    "# your code here"
   ]
  },
  {
   "cell_type": "markdown",
   "metadata": {},
   "source": [
    "## If statement\n",
    "Conditions are the absolute basic of any program. The syntax in python is"
   ]
  },
  {
   "cell_type": "code",
   "execution_count": 59,
   "metadata": {},
   "outputs": [
    {
     "name": "stdout",
     "output_type": "stream",
     "text": [
      "not recognised!\n",
      "not recognised!\n",
      "not recognised!\n",
      "not recognised!\n",
      "4\n",
      "5\n",
      "6\n",
      "7\n",
      "This is magical 8!\n",
      "not recognised!\n"
     ]
    }
   ],
   "source": [
    "for i in range(10):\n",
    "    if (i>3) and (i<=7):\n",
    "        print(i)\n",
    "    elif i==8:\n",
    "        print('This is magical 8!')\n",
    "    else:\n",
    "        print('not recognised!')"
   ]
  },
  {
   "cell_type": "markdown",
   "metadata": {},
   "source": [
    "### Exercise 5\n",
    "Write a code that evaluates whether numbers in the list are odd or even, printing either 'odd' or 'even' for each number. The reminder after division is calculated using operator modulo (%), for example 7%3 equals 1. Remember that to check whether two experssion are equal, you have to use a double equal sign == (for example x==5 evaluates to True if x equals 5). Writing x=5 assigns the value 5 to the variable x and cannot be used to check the condition."
   ]
  },
  {
   "cell_type": "code",
   "execution_count": 60,
   "metadata": {},
   "outputs": [],
   "source": [
    "numbers = [23,16,2,71,56,40]\n",
    "# Here comes for statement\n",
    "# Here comes the if/else statement"
   ]
  }
 ],
 "metadata": {
  "kernelspec": {
   "display_name": "Python 3",
   "language": "python",
   "name": "python3"
  },
  "language_info": {
   "codemirror_mode": {
    "name": "ipython",
    "version": 3
   },
   "file_extension": ".py",
   "mimetype": "text/x-python",
   "name": "python",
   "nbconvert_exporter": "python",
   "pygments_lexer": "ipython3",
   "version": "3.7.3"
  }
 },
 "nbformat": 4,
 "nbformat_minor": 2
}
